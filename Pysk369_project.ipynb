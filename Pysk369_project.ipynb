{
 "cells": [
  {
   "cell_type": "code",
   "execution_count": 19,
   "metadata": {},
   "outputs": [
    {
     "name": "stdout",
     "output_type": "stream",
     "text": [
      "2\n"
     ]
    }
   ],
   "source": [
    "Fold_change = 2\n",
    "print(Fold_change)"
   ]
  },
  {
   "cell_type": "code",
   "execution_count": 24,
   "metadata": {},
   "outputs": [
    {
     "name": "stdout",
     "output_type": "stream",
     "text": [
      "Fold_change\n"
     ]
    }
   ],
   "source": [
    "Fold_change = 4 + 4\n",
    "print(\"Fold_change\")"
   ]
  },
  {
   "cell_type": "code",
   "execution_count": 26,
   "metadata": {},
   "outputs": [
    {
     "name": "stdout",
     "output_type": "stream",
     "text": [
      "4\n"
     ]
    }
   ],
   "source": [
    "KO_change = 4\n",
    "print(KO_change)"
   ]
  },
  {
   "cell_type": "code",
   "execution_count": 27,
   "metadata": {},
   "outputs": [
    {
     "name": "stdout",
     "output_type": "stream",
     "text": [
      "ratio_fold\n"
     ]
    }
   ],
   "source": [
    "ratio_fold = Fold_change / KO_change\n",
    "print('ratio_fold')"
   ]
  },
  {
   "cell_type": "code",
   "execution_count": 28,
   "metadata": {},
   "outputs": [
    {
     "data": {
      "text/plain": [
       "int"
      ]
     },
     "execution_count": 28,
     "metadata": {},
     "output_type": "execute_result"
    }
   ],
   "source": [
    "type(Fold_change)"
   ]
  },
  {
   "cell_type": "code",
   "execution_count": 29,
   "metadata": {},
   "outputs": [
    {
     "data": {
      "text/plain": [
       "int"
      ]
     },
     "execution_count": 29,
     "metadata": {},
     "output_type": "execute_result"
    }
   ],
   "source": [
    "type(KO_change)"
   ]
  },
  {
   "cell_type": "code",
   "execution_count": 30,
   "metadata": {},
   "outputs": [
    {
     "data": {
      "text/plain": [
       "float"
      ]
     },
     "execution_count": 30,
     "metadata": {},
     "output_type": "execute_result"
    }
   ],
   "source": [
    "type(ratio_fold)"
   ]
  },
  {
   "cell_type": "code",
   "execution_count": 31,
   "metadata": {},
   "outputs": [
    {
     "name": "stdout",
     "output_type": "stream",
     "text": [
      "2.0\n"
     ]
    }
   ],
   "source": [
    "print(4/2)"
   ]
  },
  {
   "cell_type": "code",
   "execution_count": 32,
   "metadata": {},
   "outputs": [
    {
     "name": "stdout",
     "output_type": "stream",
     "text": [
      "0.5\n"
     ]
    }
   ],
   "source": [
    "print(2/4)"
   ]
  },
  {
   "cell_type": "code",
   "execution_count": 33,
   "metadata": {},
   "outputs": [
    {
     "name": "stdout",
     "output_type": "stream",
     "text": [
      "8\n"
     ]
    }
   ],
   "source": [
    "print (2*4)"
   ]
  },
  {
   "cell_type": "code",
   "execution_count": 34,
   "metadata": {},
   "outputs": [
    {
     "name": "stdout",
     "output_type": "stream",
     "text": [
      "6\n"
     ]
    }
   ],
   "source": [
    "print(2+4)"
   ]
  },
  {
   "cell_type": "code",
   "execution_count": 39,
   "metadata": {},
   "outputs": [
    {
     "name": "stdout",
     "output_type": "stream",
     "text": [
      "fold difference =  -2634.72 ?\n"
     ]
    }
   ],
   "source": [
    "WT_miRNA320a = 5.28\n",
    "KO_miRNA320a = 26.4\n",
    "# HOW KO large than WT, when comparing them?\n",
    "Difference = WT_miRNA320a - KO_miRNA320a * 100\n",
    "print(\"fold difference = \" , Difference, \"?\")"
   ]
  },
  {
   "cell_type": "code",
   "execution_count": 41,
   "metadata": {},
   "outputs": [
    {
     "name": "stdout",
     "output_type": "stream",
     "text": [
      "fold difference =  499.9999999999999 ?\n"
     ]
    }
   ],
   "source": [
    "WT_miRNA320a = 26.4\n",
    "KO_miRNA320a = 5.28\n",
    "# HOW KO large than WT, when comparing them?\n",
    "Difference = WT_miRNA320a / KO_miRNA320a * 100\n",
    "print(\"fold difference = \" , Difference, \"?\")"
   ]
  },
  {
   "cell_type": "code",
   "execution_count": 42,
   "metadata": {},
   "outputs": [
    {
     "name": "stdout",
     "output_type": "stream",
     "text": [
      "fold difference =  20.0 ?\n"
     ]
    }
   ],
   "source": [
    "WT_miRNA320a = 5.28\n",
    "KO_miRNA320a = 26.4\n",
    "# HOW KO large than WT, when comparing them?\n",
    "Difference = WT_miRNA320a / KO_miRNA320a * 100\n",
    "print(\"fold difference = \" , Difference, \"?\")"
   ]
  },
  {
   "cell_type": "code",
   "execution_count": 43,
   "metadata": {},
   "outputs": [
    {
     "name": "stdout",
     "output_type": "stream",
     "text": [
      "fold difference =  5.016 ?\n"
     ]
    }
   ],
   "source": [
    "WT_miRNA320a = 5.28\n",
    "KO_miRNA320a = 26.4\n",
    "# HOW KO large than WT, when comparing them?\n",
    "Difference = WT_miRNA320a - KO_miRNA320a / 100\n",
    "print(\"fold difference = \" , Difference, \"?\")"
   ]
  },
  {
   "cell_type": "code",
   "execution_count": 44,
   "metadata": {},
   "outputs": [
    {
     "name": "stdout",
     "output_type": "stream",
     "text": [
      "fold difference =  2645.28 ?\n"
     ]
    }
   ],
   "source": [
    "WT_miRNA320a = 5.28\n",
    "KO_miRNA320a = 26.4\n",
    "# HOW KO large than WT, when comparing them?\n",
    "Difference = WT_miRNA320a + KO_miRNA320a * 100\n",
    "print(\"fold difference = \" , Difference, \"?\")"
   ]
  },
  {
   "cell_type": "code",
   "execution_count": 45,
   "metadata": {},
   "outputs": [
    {
     "name": "stdout",
     "output_type": "stream",
     "text": [
      "fold difference =  5.5440000000000005 ?\n"
     ]
    }
   ],
   "source": [
    "WT_miRNA320a = 5.28\n",
    "KO_miRNA320a = 26.4\n",
    "# HOW KO large than WT, when comparing them?\n",
    "Difference = WT_miRNA320a + KO_miRNA320a / 100\n",
    "print(\"fold difference = \" , Difference, \"?\")"
   ]
  },
  {
   "cell_type": "code",
   "execution_count": 46,
   "metadata": {},
   "outputs": [
    {
     "name": "stdout",
     "output_type": "stream",
     "text": [
      "1\n",
      "2548\n"
     ]
    }
   ],
   "source": [
    "print(min(18, 6, 498, 4, 53, 5, 4, 165, 1, 77, 11, 4, 461, 5, 143, 87, 6, 16, 2, 17, 29, 14, 13, 11, 70, 73, 19, 2548, 578))\n",
    "print(max(18, 6, 498, 4, 53, 5, 4, 165, 1, 77, 11, 4, 461, 5, 143, 87, 6, 16, 2, 17, 29, 14, 13, 11, 70, 73, 19, 2548, 578))"
   ]
  },
  {
   "cell_type": "code",
   "execution_count": 47,
   "metadata": {},
   "outputs": [
    {
     "name": "stdout",
     "output_type": "stream",
     "text": [
      "32\n"
     ]
    }
   ],
   "source": [
    "print(abs(32))"
   ]
  },
  {
   "cell_type": "code",
   "execution_count": 12,
   "metadata": {},
   "outputs": [
    {
     "data": {
      "text/plain": [
       "[0, 1, 2, 3, 4, 5, 6, 7, 8, 9, 10, 11]"
      ]
     },
     "execution_count": 12,
     "metadata": {},
     "output_type": "execute_result"
    }
   ],
   "source": [
    "list(range(12))"
   ]
  },
  {
   "cell_type": "code",
   "execution_count": 11,
   "metadata": {},
   "outputs": [
    {
     "name": "stdout",
     "output_type": "stream",
     "text": [
      "<class 'range'>\n"
     ]
    }
   ],
   "source": [
    "nums = range(16)\n",
    "print(type(nums))"
   ]
  },
  {
   "cell_type": "code",
   "execution_count": 9,
   "metadata": {},
   "outputs": [
    {
     "name": "stdout",
     "output_type": "stream",
     "text": [
      "[3, 9, 15, 21, 27]\n"
     ]
    }
   ],
   "source": [
    "range(start, stop, step)\n",
    "# Create a new list of odd numbers from 1 to 31 by unpacking a range object\n",
    "nums_list2 = [*range(3,32,6)]\n",
    "print(nums_list2)"
   ]
  },
  {
   "cell_type": "code",
   "execution_count": 48,
   "metadata": {},
   "outputs": [
    {
     "name": "stdout",
     "output_type": "stream",
     "text": [
      "32\n"
     ]
    }
   ],
   "source": [
    "print(abs(-32))"
   ]
  },
  {
   "cell_type": "code",
   "execution_count": 10,
   "metadata": {},
   "outputs": [
    {
     "name": "stdout",
     "output_type": "stream",
     "text": [
      "[0, 1, 2, 3, 4, 5]\n"
     ]
    }
   ],
   "source": [
    "# Convert nums to a list\n",
    "nums_list = list(nums)\n",
    "print(nums_list)"
   ]
  },
  {
   "cell_type": "code",
   "execution_count": 49,
   "metadata": {},
   "outputs": [
    {
     "name": "stdout",
     "output_type": "stream",
     "text": [
      "17.0\n",
      "1\n",
      "2549\n"
     ]
    }
   ],
   "source": [
    "print(float(17))\n",
    "print(int(1.67))\n",
    "# they can be called  on strings\n",
    "print(int('2548') + 1)"
   ]
  },
  {
   "cell_type": "code",
   "execution_count": 16,
   "metadata": {},
   "outputs": [
    {
     "name": "stdout",
     "output_type": "stream",
     "text": [
      " I have learnt some basic python code from instructor John Lee_ spring biof309\n",
      " great! and iniate real project\n"
     ]
    }
   ],
   "source": [
    "print(\" I have learnt some basic python code from instructor John Lee_ spring biof309\")\n",
    "print(\" great! and iniate real project\")"
   ]
  },
  {
   "cell_type": "code",
   "execution_count": null,
   "metadata": {},
   "outputs": [],
   "source": [
    "# need to solve problem how to import list file which has miroarray and miRNAseq data( getting error)\n",
    "# how they need to be lsited? \n",
    "# assign the value for Microarray_miRNA_list\n",
    "MicroArray = X\n",
    "# assign the value for miRNAseq__miRNA_list\n",
    "miRNASEQ =  Y\n",
    "# How to identify if miRNA is present in Microarray_miRNA_list as well as in miRNAseq__miRNA_list when comparing them?\n",
    "if present in 'X' and 'Y' = Yes\n",
    "Yes = 2\n",
    "print(\"Yes\")\n",
    "if only prenet in 'X' or 'Y' = No\n",
    "No = 1\n",
    "print(\"No\")\n",
    "\n"
   ]
  },
  {
   "cell_type": "code",
   "execution_count": 2,
   "metadata": {},
   "outputs": [],
   "source": [
    "import Python_project_data"
   ]
  },
  {
   "cell_type": "code",
   "execution_count": 9,
   "metadata": {},
   "outputs": [
    {
     "ename": "AttributeError",
     "evalue": "module 'Python_project_data' has no attribute 'load_names'",
     "output_type": "error",
     "traceback": [
      "\u001b[1;31m---------------------------------------------------------------------------\u001b[0m",
      "\u001b[1;31mAttributeError\u001b[0m                            Traceback (most recent call last)",
      "\u001b[1;32m<ipython-input-9-dd9e63ac463b>\u001b[0m in \u001b[0;36m<module>\u001b[1;34m\u001b[0m\n\u001b[1;32m----> 1\u001b[1;33m \u001b[0mdf_MicroArray\u001b[0m \u001b[1;33m=\u001b[0m \u001b[0mPython_project_data\u001b[0m\u001b[1;33m.\u001b[0m\u001b[0mload_names\u001b[0m\u001b[1;33m(\u001b[0m\u001b[1;34m'MicroArray'\u001b[0m\u001b[1;33m)\u001b[0m\u001b[1;33m\u001b[0m\u001b[1;33m\u001b[0m\u001b[0m\n\u001b[0m",
      "\u001b[1;31mAttributeError\u001b[0m: module 'Python_project_data' has no attribute 'load_names'"
     ]
    }
   ],
   "source": [
    "df_MicroArray = Python_project_data.load_names('MicroArray')"
   ]
  },
  {
   "cell_type": "code",
   "execution_count": 6,
   "metadata": {},
   "outputs": [
    {
     "ename": "SyntaxError",
     "evalue": "invalid syntax (<ipython-input-6-cf016e9c578a>, line 1)",
     "output_type": "error",
     "traceback": [
      "\u001b[1;36m  File \u001b[1;32m\"<ipython-input-6-cf016e9c578a>\"\u001b[1;36m, line \u001b[1;32m1\u001b[0m\n\u001b[1;33m    Python project data.list(df_MicroArray)\u001b[0m\n\u001b[1;37m                 ^\u001b[0m\n\u001b[1;31mSyntaxError\u001b[0m\u001b[1;31m:\u001b[0m invalid syntax\n"
     ]
    }
   ],
   "source": [
    "Python project data.list(df_MicroArray)"
   ]
  },
  {
   "cell_type": "code",
   "execution_count": 7,
   "metadata": {},
   "outputs": [
    {
     "ename": "NameError",
     "evalue": "name 'df_MicroArray' is not defined",
     "output_type": "error",
     "traceback": [
      "\u001b[1;31m---------------------------------------------------------------------------\u001b[0m",
      "\u001b[1;31mNameError\u001b[0m                                 Traceback (most recent call last)",
      "\u001b[1;32m<ipython-input-7-33534eb162e9>\u001b[0m in \u001b[0;36m<module>\u001b[1;34m\u001b[0m\n\u001b[1;32m----> 1\u001b[1;33m \u001b[0mdf_MicroArray\u001b[0m\u001b[1;33m.\u001b[0m\u001b[0msort\u001b[0m\u001b[1;33m(\u001b[0m\u001b[1;33m)\u001b[0m\u001b[1;33m\u001b[0m\u001b[1;33m\u001b[0m\u001b[0m\n\u001b[0m",
      "\u001b[1;31mNameError\u001b[0m: name 'df_MicroArray' is not defined"
     ]
    }
   ],
   "source": [
    "df_MicroArray.sort()"
   ]
  },
  {
   "cell_type": "code",
   "execution_count": 1,
   "metadata": {},
   "outputs": [
    {
     "data": {
      "text/plain": [
       "'C:\\\\Users\\\\sukik\\\\project_spring_2020'"
      ]
     },
     "execution_count": 1,
     "metadata": {},
     "output_type": "execute_result"
    }
   ],
   "source": [
    "%pwd"
   ]
  },
  {
   "cell_type": "code",
   "execution_count": null,
   "metadata": {},
   "outputs": [],
   "source": []
  },
  {
   "cell_type": "code",
   "execution_count": null,
   "metadata": {},
   "outputs": [],
   "source": []
  }
 ],
 "metadata": {
  "kernelspec": {
   "display_name": "Python 3",
   "language": "python",
   "name": "python3"
  },
  "language_info": {
   "codemirror_mode": {
    "name": "ipython",
    "version": 3
   },
   "file_extension": ".py",
   "mimetype": "text/x-python",
   "name": "python",
   "nbconvert_exporter": "python",
   "pygments_lexer": "ipython3",
   "version": "3.7.4"
  }
 },
 "nbformat": 4,
 "nbformat_minor": 4
}
